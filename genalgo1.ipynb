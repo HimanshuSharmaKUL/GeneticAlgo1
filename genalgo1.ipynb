{
 "cells": [
  {
   "cell_type": "code",
   "execution_count": null,
   "metadata": {},
   "outputs": [],
   "source": [
    "import pandas as pd\n",
    "import random\n",
    "import numpy as np"
   ]
  },
  {
   "cell_type": "code",
   "execution_count": null,
   "metadata": {},
   "outputs": [],
   "source": [
    "def initialize(p_zero, N):\n",
    "    #create the map that we're trying to navigate. \n",
    "    #this is in form of adjacency matrix, randomly stimulated, how far intersections/nodes are from each other\n",
    "    #nxn matrix, where each row and column correspond to an intersection on a map or a node\n",
    "    #x_ij, then is equal to amount of time that it takes to get from position i to position j\n",
    "    #practically, we need a matrix with some numeric values in it. \n",
    "    #for paths bw nodes i, j that do not exist, we'll assign 0 to them\n",
    "    #i.e. if you can not go directly form i to j, then direct path or simply, 'path' does not exist\n",
    "\n",
    "    #for initilisation, we need parameters\n",
    "    #proportion of xeros in final matrix -> probability of zero, to control how sparse the map is -> p_zero\n",
    "\n",
    "    themap =[]\n",
    "    for i in range(0,N):\n",
    "        for j in range(0, i): #'.' run the second loop only till i-1, since the adjecency matrix is symmetric\n",
    "            row=[]\n",
    "            if random.random()> p_zero:\n",
    "                "
   ]
  },
  {
   "cell_type": "code",
   "execution_count": null,
   "metadata": {},
   "outputs": [],
   "source": [
    "def fitness(member):\n",
    "    return "
   ]
  },
  {
   "cell_type": "code",
   "execution_count": null,
   "metadata": {},
   "outputs": [],
   "source": [
    "def crossover(a,b):\n",
    "    return"
   ]
  },
  {
   "cell_type": "code",
   "execution_count": null,
   "metadata": {},
   "outputs": [],
   "source": [
    "def mutate(member):\n",
    "    return member"
   ]
  },
  {
   "cell_type": "code",
   "execution_count": null,
   "metadata": {},
   "outputs": [],
   "source": [
    "def create_new_member():\n",
    "    "
   ]
  }
 ],
 "metadata": {
  "language_info": {
   "name": "python"
  }
 },
 "nbformat": 4,
 "nbformat_minor": 2
}
