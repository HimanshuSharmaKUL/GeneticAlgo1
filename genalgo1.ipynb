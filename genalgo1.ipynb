{
 "cells": [
  {
   "cell_type": "code",
   "execution_count": 2,
   "metadata": {},
   "outputs": [],
   "source": [
    "import pandas as pd\n",
    "import random\n",
    "import numpy as np"
   ]
  },
  {
   "cell_type": "code",
   "execution_count": 39,
   "metadata": {},
   "outputs": [],
   "source": [
    "def initialize(p_zero, N):\n",
    "    #create the map that we're trying to navigate. \n",
    "    #this is in form of adjacency matrix, randomly stimulated, how far intersections/nodes are from each other\n",
    "    #nxn matrix, where each row and column correspond to an intersection on a map or a node\n",
    "    #x_ij, then is equal to amount of time that it takes to get from position i to position j\n",
    "    #practically, we need a matrix with some numeric values in it. \n",
    "    #for paths bw nodes i, j that do not exist, we'll assign 0 to them\n",
    "    #i.e. if you can not go directly form i to j, then direct path or simply, 'path' does not exist\n",
    "\n",
    "    #for initilisation, we need parameters\n",
    "    #proportion of xeros in final matrix -> probability of zero, to control how sparse the map is -> p_zero\n",
    "\n",
    "    themap = np.zeros((N,N))\n",
    "    for i in range(0,N):\n",
    "        for j in range(0, i): #'.' run the second loop only till i-1, since the adjecency matrix is symmetric\n",
    "            \n",
    "            if random.random()> p_zero:\n",
    "                themap[i][j] = random.random() *100\n",
    "                themap[j][i] = themap[i][j]\n",
    "                #if the p_zero is less than some random value then only assign 0, we can control the sparcity of the matrix \n",
    "    return themap   \n",
    "\n",
    "def create_starting_population(size, max_route_length, N):\n",
    "    \n",
    "    #this just creates a population of different routes of a fixed size, simple\n",
    "    #it's gonna loop through the create_new_member function, to create a population with different starting routes\n",
    "    population = []\n",
    "    \n",
    "    for i in range(0, size):\n",
    "        population.append(create_new_member(max_route_length, N))\n",
    "\n",
    "    return population\n"
   ]
  },
  {
   "cell_type": "code",
   "execution_count": 74,
   "metadata": {},
   "outputs": [
    {
     "data": {
      "text/plain": [
       "array([[ 0.        , 20.65395789, 71.41277614, 32.20885241, 62.39483921],\n",
       "       [20.65395789,  0.        , 13.43063537, 79.95913131, 27.3161582 ],\n",
       "       [71.41277614, 13.43063537,  0.        , 49.02138336, 93.71867008],\n",
       "       [32.20885241, 79.95913131, 49.02138336,  0.        , 24.0590257 ],\n",
       "       [62.39483921, 27.3161582 , 93.71867008, 24.0590257 ,  0.        ]])"
      ]
     },
     "execution_count": 74,
     "metadata": {},
     "output_type": "execute_result"
    }
   ],
   "source": [
    "a = initialize(p_zero=0.1, N=5)\n",
    "a"
   ]
  },
  {
   "cell_type": "code",
   "execution_count": null,
   "metadata": {},
   "outputs": [],
   "source": [
    "def fitness(member, themap):\n",
    "    score = 0\n",
    "\n",
    "    for i in range(1, member):\n",
    "        score = score + themap[route[i-1]][route[i]] \n",
    "        #for the scores, we're just adding the value of distance in themap\n",
    "        #yaha par there is no objective function, instead, scores seedha adjecancy matrix me hi hai\n",
    "\n",
    "    return score"
   ]
  },
  {
   "cell_type": "code",
   "execution_count": 88,
   "metadata": {},
   "outputs": [],
   "source": [
    "def crossover(a,b):\n",
    "    \"\"\"The Breeding Step\"\"\"\n",
    "\n",
    "    #cut the a and b randomly\n",
    "    cut_a = random.randint(1, len(a)-1) #1 to leng(a)-1 ke beech koi bhi number\n",
    "    cut_b = random.randint(1, len(b)-1)\n",
    "\n",
    "    new_a1 = a[0:cut_a] #first part of a\n",
    "    new_b1 = b[0:cut_b] #first part of b\n",
    "\n",
    "    new_a2 = a[cut_a:-1]\n",
    "    new_b2 = b[cut_b:-1]\n",
    "\n",
    "    new_a = np.append(new_a1, new_a2)\n",
    "    new_b = np.append(new_b1, new_b2)\n",
    "\n",
    "    print(cut_a, cut_b)\n",
    "    print(new_a, new_b)\n",
    "\n",
    "\n",
    "\n",
    "    #Upon the crossover is done, we gotta also check whether the resulting offprings, \n",
    "    #i.e. the resulting routes are valid routes or not.\n",
    "    return (a,b)"
   ]
  },
  {
   "cell_type": "code",
   "execution_count": null,
   "metadata": {},
   "outputs": [],
   "source": []
  },
  {
   "cell_type": "code",
   "execution_count": null,
   "metadata": {},
   "outputs": [],
   "source": [
    "def mutate(route, probability): #member is nothing but a path\n",
    "    for i in range(0, len(member)):\n",
    "        if \n",
    "\n",
    "    return member"
   ]
  },
  {
   "cell_type": "code",
   "execution_count": 80,
   "metadata": {},
   "outputs": [],
   "source": [
    "def create_new_member(themap):\n",
    "    #here we create a new route\n",
    "    #the new route can have any number of steps, sp we'll select that randomly\n",
    "    #the structure of the route will be a vextor of integers where each value is the next step in the route\n",
    "    #Everyone starts at 0, so the first value in thevector will indicate where to attempt to go next.\n",
    "    #i.e., if v_i = 4, then that would correspond to X_0,4 in the map that was created at initialization\n",
    "\n",
    "    #N is the size of the map, so we need to make sure that\n",
    "    #we do not generate any values that exceed the size of the map\n",
    "\n",
    "    #-------------------------\n",
    "    # route_length = random.randint(0,max_route_length)\n",
    "\n",
    "    # route = np.zeros(route_length)\n",
    "    # print(route)\n",
    "    # for i in range(0, route_length):\n",
    "    #     route[i] = random.randint(0,N-1)\n",
    "    #--------------------------\n",
    "\n",
    "    #now, we need to be sure that the route is valid\n",
    "    #to do that, we need to go thourgh a few steps,\n",
    "\n",
    "    #Step1: get rid of all the values in the route that do not correspond to a non-zero value on themap\n",
    "    #in other words, if we try to go from i to j, but it is not possible to go from i to j, then we need to \n",
    "    #get rid of that\n",
    "\n",
    "    # print(route)\n",
    "    # counter = 0\n",
    "    # go = True\n",
    "\n",
    "    # for i in range(0, len(route)):\n",
    "    #     if themap[i][route[i]] == 0:\n",
    "    # while go:\n",
    "    #     #if the path doesnt exist\n",
    "    #     print(counter)\n",
    "    #     if themap[counter][route[counter]] == 0:\n",
    "    #         #delete the point and go on to the next path\n",
    "    #         np.delete(route, counter)\n",
    "    #     else:\n",
    "    #         #else move on\n",
    "    #         counter+=1\n",
    "        \n",
    "    #     #if its the last point, then stop going\n",
    "    #     if counter == len(route) - 1:\n",
    "    #         go = False\n",
    "\n",
    "\n",
    "    #Step2: we need to make sure that the route actually ends at the right place\n",
    "    #In this case, the destination is point N-1 (the last point)\n",
    "    #so we will simply add random values untill we connect to that final point\n",
    "    #it's not the most efficient approach, but hopefully it will get us there\n",
    "\n",
    "    N = len(themap)\n",
    "    \n",
    "    route = np.zeros(1, dtype=int)\n",
    "    print(route)\n",
    "    go = True\n",
    "    \n",
    "    i = 1\n",
    "    \n",
    "    while go:\n",
    "        \n",
    "        possible_values = np.nonzero(themap[route[i-1]])\n",
    "        # print(i)\n",
    "        # print(route[i-1])\n",
    "        # print(themap[route[i-1]])\n",
    "        proposed_value = random.randint(0,len(possible_values[0])-1)\n",
    "        route = np.append(route, possible_values[0][proposed_value])\n",
    "                \n",
    "        if route[i] == N-1:\n",
    "            go = False\n",
    "        else:\n",
    "            i += 1\n",
    "    \n",
    "    return route\n",
    "   "
   ]
  },
  {
   "cell_type": "code",
   "execution_count": 85,
   "metadata": {},
   "outputs": [
    {
     "name": "stdout",
     "output_type": "stream",
     "text": [
      "[0]\n",
      "1\n",
      "0\n",
      "[ 0.         20.65395789 71.41277614 32.20885241 62.39483921]\n",
      "2\n",
      "3\n",
      "[32.20885241 79.95913131 49.02138336  0.         24.0590257 ]\n",
      "3\n",
      "1\n",
      "[20.65395789  0.         13.43063537 79.95913131 27.3161582 ]\n"
     ]
    },
    {
     "data": {
      "text/plain": [
       "array([0, 3, 1, 4], dtype=int64)"
      ]
     },
     "execution_count": 85,
     "metadata": {},
     "output_type": "execute_result"
    }
   ],
   "source": [
    "create_new_member(a)"
   ]
  },
  {
   "cell_type": "code",
   "execution_count": 87,
   "metadata": {},
   "outputs": [
    {
     "data": {
      "text/plain": [
       "(array([1, 2, 3, 4], dtype=int64),)"
      ]
     },
     "execution_count": 87,
     "metadata": {},
     "output_type": "execute_result"
    }
   ],
   "source": [
    "np.nonzero([ 0, 20.65395789, 71.41277614, 32.20885241, 62.39483921]\n",
    "           )"
   ]
  }
 ],
 "metadata": {
  "kernelspec": {
   "display_name": "base",
   "language": "python",
   "name": "python3"
  },
  "language_info": {
   "codemirror_mode": {
    "name": "ipython",
    "version": 3
   },
   "file_extension": ".py",
   "mimetype": "text/x-python",
   "name": "python",
   "nbconvert_exporter": "python",
   "pygments_lexer": "ipython3",
   "version": "3.11.5"
  }
 },
 "nbformat": 4,
 "nbformat_minor": 2
}
